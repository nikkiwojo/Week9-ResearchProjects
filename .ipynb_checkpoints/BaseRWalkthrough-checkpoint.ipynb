{
 "cells": [
  {
   "cell_type": "markdown",
   "id": "7917052a",
   "metadata": {},
   "source": [
    "## Intro to R - Walkthrough\n",
    "### Using \"Base R\""
   ]
  },
  {
   "cell_type": "code",
   "execution_count": 6,
   "id": "a75a4ee8",
   "metadata": {},
   "outputs": [
    {
     "data": {
      "text/html": [
       "10"
      ],
      "text/latex": [
       "10"
      ],
      "text/markdown": [
       "10"
      ],
      "text/plain": [
       "[1] 10"
      ]
     },
     "metadata": {},
     "output_type": "display_data"
    },
    {
     "data": {
      "text/html": [
       "-7"
      ],
      "text/latex": [
       "-7"
      ],
      "text/markdown": [
       "-7"
      ],
      "text/plain": [
       "[1] -7"
      ]
     },
     "metadata": {},
     "output_type": "display_data"
    },
    {
     "data": {
      "text/html": [
       "392"
      ],
      "text/latex": [
       "392"
      ],
      "text/markdown": [
       "392"
      ],
      "text/plain": [
       "[1] 392"
      ]
     },
     "metadata": {},
     "output_type": "display_data"
    },
    {
     "data": {
      "text/html": [
       "25"
      ],
      "text/latex": [
       "25"
      ],
      "text/markdown": [
       "25"
      ],
      "text/plain": [
       "[1] 25"
      ]
     },
     "metadata": {},
     "output_type": "display_data"
    }
   ],
   "source": [
    "# Simple math\n",
    "\n",
    "5 + 5\n",
    "3 - 10\n",
    "14 * 28\n",
    "100 / 4"
   ]
  },
  {
   "cell_type": "code",
   "execution_count": 15,
   "id": "88ff14a1",
   "metadata": {},
   "outputs": [
    {
     "data": {
      "text/html": [
       "8"
      ],
      "text/latex": [
       "8"
      ],
      "text/markdown": [
       "8"
      ],
      "text/plain": [
       "[1] 8"
      ]
     },
     "metadata": {},
     "output_type": "display_data"
    },
    {
     "data": {
      "text/html": [
       "4"
      ],
      "text/latex": [
       "4"
      ],
      "text/markdown": [
       "4"
      ],
      "text/plain": [
       "[1] 4"
      ]
     },
     "metadata": {},
     "output_type": "display_data"
    },
    {
     "data": {
      "text/html": [
       "4"
      ],
      "text/latex": [
       "4"
      ],
      "text/markdown": [
       "4"
      ],
      "text/plain": [
       "[1] 4"
      ]
     },
     "metadata": {},
     "output_type": "display_data"
    },
    {
     "data": {
      "text/html": [
       "5.2"
      ],
      "text/latex": [
       "5.2"
      ],
      "text/markdown": [
       "5.2"
      ],
      "text/plain": [
       "[1] 5.2"
      ]
     },
     "metadata": {},
     "output_type": "display_data"
    }
   ],
   "source": [
    "# More than simple math\n",
    "\n",
    "max(1,7,2,1,3,4,8,3)\n",
    "sqrt(16)\n",
    "ceiling(3.14)\n",
    "abs(-5.2)"
   ]
  },
  {
   "cell_type": "code",
   "execution_count": 9,
   "id": "9300fc82",
   "metadata": {},
   "outputs": [],
   "source": [
    "# Data Types\n",
    "\n",
    "numeric <- 10.5\n",
    "integer <- 55L\n",
    "complex <- 3 + 2i\n",
    "character <- 'Hello'\n",
    "logical <- TRUE"
   ]
  },
  {
   "cell_type": "code",
   "execution_count": 18,
   "id": "882b001f",
   "metadata": {},
   "outputs": [
    {
     "data": {
      "text/html": [
       "<ol>\n",
       "\t<li>'banana'</li>\n",
       "\t<li>'pineapple'</li>\n",
       "\t<li>'orange'</li>\n",
       "\t<li>'strawberry'</li>\n",
       "\t<li>'cherry'</li>\n",
       "\t<li>'mango'</li>\n",
       "\t<li>'apple'</li>\n",
       "</ol>\n"
      ],
      "text/latex": [
       "\\begin{enumerate}\n",
       "\\item 'banana'\n",
       "\\item 'pineapple'\n",
       "\\item 'orange'\n",
       "\\item 'strawberry'\n",
       "\\item 'cherry'\n",
       "\\item 'mango'\n",
       "\\item 'apple'\n",
       "\\end{enumerate}\n"
      ],
      "text/markdown": [
       "1. 'banana'\n",
       "2. 'pineapple'\n",
       "3. 'orange'\n",
       "4. 'strawberry'\n",
       "5. 'cherry'\n",
       "6. 'mango'\n",
       "7. 'apple'\n",
       "\n",
       "\n"
      ],
      "text/plain": [
       "[[1]]\n",
       "[1] \"banana\"\n",
       "\n",
       "[[2]]\n",
       "[1] \"pineapple\"\n",
       "\n",
       "[[3]]\n",
       "[1] \"orange\"\n",
       "\n",
       "[[4]]\n",
       "[1] \"strawberry\"\n",
       "\n",
       "[[5]]\n",
       "[1] \"cherry\"\n",
       "\n",
       "[[6]]\n",
       "[1] \"mango\"\n",
       "\n",
       "[[7]]\n",
       "[1] \"apple\"\n"
      ]
     },
     "metadata": {},
     "output_type": "display_data"
    }
   ],
   "source": [
    "fruits <- list('banana','pineapple','orange','strawberry','cherry','mango')\n",
    "\n",
    "if('apple' %in% fruits){\n",
    "    print(TRUE)\n",
    "} else {\n",
    "    append(fruits, 'apple')\n",
    "}"
   ]
  },
  {
   "cell_type": "code",
   "execution_count": 22,
   "id": "55802e34",
   "metadata": {},
   "outputs": [
    {
     "name": "stdout",
     "output_type": "stream",
     "text": [
      "[1] 1\n",
      "[1] 2\n",
      "[1] 3\n",
      "[1] 4\n",
      "[1] 5\n"
     ]
    }
   ],
   "source": [
    "for (x in 1:5){\n",
    "    print(x)\n",
    "}"
   ]
  },
  {
   "cell_type": "code",
   "execution_count": 25,
   "id": "77c3e836",
   "metadata": {},
   "outputs": [
    {
     "data": {
      "text/html": [
       "<table>\n",
       "<tbody>\n",
       "\t<tr><td>1 </td><td>5 </td><td> 9</td></tr>\n",
       "\t<tr><td>2 </td><td>6 </td><td>10</td></tr>\n",
       "\t<tr><td>3 </td><td>7 </td><td>11</td></tr>\n",
       "\t<tr><td>4 </td><td>8 </td><td>12</td></tr>\n",
       "</tbody>\n",
       "</table>\n"
      ],
      "text/latex": [
       "\\begin{tabular}{lll}\n",
       "\t 1  & 5  &  9\\\\\n",
       "\t 2  & 6  & 10\\\\\n",
       "\t 3  & 7  & 11\\\\\n",
       "\t 4  & 8  & 12\\\\\n",
       "\\end{tabular}\n"
      ],
      "text/markdown": [
       "\n",
       "| 1  | 5  |  9 |\n",
       "| 2  | 6  | 10 |\n",
       "| 3  | 7  | 11 |\n",
       "| 4  | 8  | 12 |\n",
       "\n"
      ],
      "text/plain": [
       "     [,1] [,2] [,3]\n",
       "[1,] 1    5     9  \n",
       "[2,] 2    6    10  \n",
       "[3,] 3    7    11  \n",
       "[4,] 4    8    12  "
      ]
     },
     "metadata": {},
     "output_type": "display_data"
    }
   ],
   "source": [
    "# The variable nums below will create a 4x3 matrix\n",
    "\n",
    "nums <- matrix(c(1,2,3,4,5,6,7,8,9,10,11,12), nrow = 4, ncol = 3)\n",
    "nums"
   ]
  },
  {
   "cell_type": "code",
   "execution_count": 9,
   "id": "cd4fd7ac",
   "metadata": {},
   "outputs": [
    {
     "data": {
      "text/html": [
       "<span style=white-space:pre-wrap>'55  is odd.'</span>"
      ],
      "text/latex": [
       "'55  is odd.'"
      ],
      "text/markdown": [
       "<span style=white-space:pre-wrap>'55  is odd.'</span>"
      ],
      "text/plain": [
       "[1] \"55  is odd.\""
      ]
     },
     "metadata": {},
     "output_type": "display_data"
    },
    {
     "data": {
      "text/html": [
       "<span style=white-space:pre-wrap>'24  is even.'</span>"
      ],
      "text/latex": [
       "'24  is even.'"
      ],
      "text/markdown": [
       "<span style=white-space:pre-wrap>'24  is even.'</span>"
      ],
      "text/plain": [
       "[1] \"24  is even.\""
      ]
     },
     "metadata": {},
     "output_type": "display_data"
    }
   ],
   "source": [
    "# We can create functions \n",
    "\n",
    "check_num <- function(x){\n",
    "    if(x%%2 == 0){\n",
    "        paste(x, \" is even.\")\n",
    "    } else {\n",
    "        paste(x, \" is odd.\")\n",
    "    }\n",
    "}\n",
    "\n",
    "check_num(55)\n",
    "check_num(24)"
   ]
  },
  {
   "cell_type": "code",
   "execution_count": null,
   "id": "5af820c3",
   "metadata": {},
   "outputs": [],
   "source": []
  }
 ],
 "metadata": {
  "kernelspec": {
   "display_name": "R",
   "language": "R",
   "name": "ir"
  },
  "language_info": {
   "codemirror_mode": "r",
   "file_extension": ".r",
   "mimetype": "text/x-r-source",
   "name": "R",
   "pygments_lexer": "r",
   "version": "3.6.1"
  }
 },
 "nbformat": 4,
 "nbformat_minor": 5
}
